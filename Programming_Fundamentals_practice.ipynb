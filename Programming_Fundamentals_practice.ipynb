{
  "nbformat": 4,
  "nbformat_minor": 0,
  "metadata": {
    "colab": {
      "provenance": []
    },
    "kernelspec": {
      "name": "python3",
      "display_name": "Python 3"
    },
    "language_info": {
      "name": "python"
    }
  },
  "cells": [
    {
      "cell_type": "code",
      "source": [
        "#solution for question number 1\n",
        "person1 = 14\n",
        "person2 = 26\n",
        "person3 = 30\n",
        "listOfPersons = []\n",
        "listOfPersons.append(person1)\n",
        "listOfPersons.append(person2)\n",
        "listOfPersons.append(person3)\n",
        "listOfPersons.sort()\n",
        "print(\"The age of youngest person is : \" , listOfPersons[0])"
      ],
      "metadata": {
        "colab": {
          "base_uri": "https://localhost:8080/"
        },
        "id": "aferFDmD8tdp",
        "outputId": "f756ae14-1541-4fc3-d5af-81ba6d97a8ed"
      },
      "execution_count": null,
      "outputs": [
        {
          "output_type": "stream",
          "name": "stdout",
          "text": [
            "The age of youngest person is :  14\n"
          ]
        }
      ]
    },
    {
      "cell_type": "code",
      "source": [
        "#solution for question number 2\n",
        "sum = 0\n",
        "for number in range(1, 8):\n",
        "  sum = sum + (number/(number+1))\n",
        "print('Sum of first seven terms: %.2f'%sum)"
      ],
      "metadata": {
        "colab": {
          "base_uri": "https://localhost:8080/"
        },
        "id": "hFvOtfYJ9w-8",
        "outputId": "e388f45d-4282-4fcc-a3f0-a9b52896ddb6"
      },
      "execution_count": null,
      "outputs": [
        {
          "output_type": "stream",
          "name": "stdout",
          "text": [
            "Sum of first seven terms: 5.28\n"
          ]
        }
      ]
    },
    {
      "cell_type": "code",
      "execution_count": null,
      "metadata": {
        "colab": {
          "base_uri": "https://localhost:8080/"
        },
        "id": "P8_RUMGG7Xyo",
        "outputId": "e13ea1c4-be07-4d81-d3b3-01014181298e"
      },
      "outputs": [
        {
          "output_type": "stream",
          "name": "stdout",
          "text": [
            "5\n",
            "73\n"
          ]
        }
      ],
      "source": [
        "#solution for question number 3\n",
        "#n = int(input(\"Enter the number for calculating the prime factors :\"))\n",
        "inputNumber = 365\n",
        "for i in range(2,inputNumber + 1):\n",
        "    if inputNumber % i == 0:\n",
        "        count = 1\n",
        "        for j in range(2,(i//2 + 1)):\n",
        "            if(i % j == 0):\n",
        "                count = 0\n",
        "                break\n",
        "        if(count == 1):\n",
        "            print(i)"
      ]
    },
    {
      "cell_type": "code",
      "source": [
        "#solution for question number 4\n",
        "inputNumber = 1245\n",
        "#inputNumber = input('enter a number')\n",
        "sumOfDigits = 0\n",
        "for i in str(inputNumber) :\n",
        "    sumOfDigits = sumOfDigits + int(i)\n",
        "print(\"Sum of the digits is : \",sumOfDigits)"
      ],
      "metadata": {
        "colab": {
          "base_uri": "https://localhost:8080/"
        },
        "id": "qwahAPis_42H",
        "outputId": "8a7f503d-012d-46f8-9783-70d6bd6ee869"
      },
      "execution_count": null,
      "outputs": [
        {
          "output_type": "stream",
          "name": "stdout",
          "text": [
            "Sum of the digits is :  12\n"
          ]
        }
      ]
    },
    {
      "cell_type": "code",
      "source": [
        "#solution for question number 5\n",
        "vowels = ['a','e','i','o','u']\n",
        "userSentence = 'this is a python code'\n",
        "for i in userSentence:\n",
        "  if(i in vowels):\n",
        "    userSentence = userSentence.replace(i, '')\n",
        "print(userSentence)"
      ],
      "metadata": {
        "colab": {
          "base_uri": "https://localhost:8080/"
        },
        "id": "6QT5rsSDAxBV",
        "outputId": "ace5c0e1-2eae-47b3-8c4c-300afe588b2f"
      },
      "execution_count": null,
      "outputs": [
        {
          "output_type": "stream",
          "name": "stdout",
          "text": [
            "ths s  pythn cd\n"
          ]
        }
      ]
    },
    {
      "cell_type": "code",
      "source": [
        "#solution for question number 6\n",
        "monthDictionary = {'jan':'01','feb':'02','mar':'03','apr':'04','may':'05','jun':'06','jul':'07','aug':'08','sept':'09','oct':'10','nov':'11','dec':'12'}\n",
        "class Date:\n",
        "  __day = int(0)\n",
        "  __month = str('')\n",
        "  __year = int(0)\n",
        "  def __init__(self,day,month,year):\n",
        "        self.__day = day\n",
        "        self.__month = month\n",
        "        self.__year = year\n",
        "  def setDay(self, i):\n",
        "      self.__day = i\n",
        "  def getDay(self):\n",
        "      return self.__day\n",
        "  def setMonth(self, i):\n",
        "      self.__month = i\n",
        "  def getMonth(self):\n",
        "      return self.__month\n",
        "  def setYear(self, i):\n",
        "      self.__year = i\n",
        "  def getYear(self):\n",
        "      return self.__year\n",
        "\n",
        "  def printDate(self):\n",
        "    print('Date is ',self.__day,'/',monthDictionary.get(self.__month),'/',self.__year)\n",
        "\n",
        "  def checkLeapYear(self) :\n",
        "    if (self.__year%4 == 0 and self.__year%100 != 0) or (self.__year%400 == 0):\n",
        "        print(self.__year, \"is a leap year.\")\n",
        "    else :\n",
        "        print(self.__year, \"is not a leap year.\")\n"
      ],
      "metadata": {
        "id": "xftN2RfE-CYp"
      },
      "execution_count": null,
      "outputs": []
    },
    {
      "cell_type": "code",
      "source": [
        "# Question 6 implementation by user\n",
        "obj = Date(9,'aug',2022)\n",
        "obj.printDate()\n",
        "obj.checkLeapYear()\n",
        "\n",
        "print(obj.getDay())\n",
        "print(obj.getMonth())\n",
        "print(obj.getYear())"
      ],
      "metadata": {
        "colab": {
          "base_uri": "https://localhost:8080/"
        },
        "id": "NY8hfjqgHSIA",
        "outputId": "8e6c1ccf-8409-4ef5-c3a7-5a65fb6d50d5"
      },
      "execution_count": null,
      "outputs": [
        {
          "output_type": "stream",
          "name": "stdout",
          "text": [
            "Date is  9 / 08 / 2022\n",
            "2022 is not a leap year.\n",
            "9\n",
            "aug\n",
            "2022\n"
          ]
        }
      ]
    },
    {
      "cell_type": "markdown",
      "source": [
        "#solution for question number 7\n",
        "\n",
        "\n",
        "*   False\n",
        "*   False\n",
        "*   False\n",
        "*   False\n",
        "*   True"
      ],
      "metadata": {
        "id": "SgSB9XZOBgk5"
      }
    },
    {
      "cell_type": "code",
      "source": [
        "#solution for question number 8\n",
        "#x⁴−2xy+y⁴\n",
        "\n",
        "x=-3\n",
        "y=2\n",
        "expression = ((x**4)-(2*x*y)+(y**4))\n",
        "print(expression)"
      ],
      "metadata": {
        "colab": {
          "base_uri": "https://localhost:8080/"
        },
        "id": "79K5Z65RDNrW",
        "outputId": "eb1df2aa-52fb-4773-db54-a587918ffa5a"
      },
      "execution_count": null,
      "outputs": [
        {
          "output_type": "stream",
          "name": "stdout",
          "text": [
            "109\n"
          ]
        }
      ]
    },
    {
      "cell_type": "code",
      "source": [
        "#solution for question number 9\n",
        "import random\n",
        "mylist = []\n",
        "for i in range(0,10):\n",
        "    x = random.randint(0,100)\n",
        "    mylist.append(x)\n",
        "print(mylist)\n",
        "prime_number=[]\n",
        "for i in mylist :\n",
        "    c=0\n",
        "    for y in range(1,i):\n",
        "        if i%y==0:\n",
        "            c+=1\n",
        "    if c==1:\n",
        "        prime_number.append(i)\n",
        "print(prime_number)\n",
        "listOfIndexes = []\n",
        "listOfIndexes = [i for i in range(len(mylist)) if mylist[i] in prime_number]\n",
        "print(listOfIndexes)"
      ],
      "metadata": {
        "colab": {
          "base_uri": "https://localhost:8080/"
        },
        "id": "yVn8q88SFy1k",
        "outputId": "650cdb26-b5df-4349-e92a-e2bf7883e125"
      },
      "execution_count": 13,
      "outputs": [
        {
          "output_type": "stream",
          "name": "stdout",
          "text": [
            "[100, 5, 54, 97, 70, 75, 17, 68, 16, 98]\n",
            "[5, 97, 17]\n",
            "[1, 3, 6]\n"
          ]
        }
      ]
    }
  ]
}